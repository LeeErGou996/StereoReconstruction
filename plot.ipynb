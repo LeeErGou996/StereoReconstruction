{
 "cells": [
  {
   "cell_type": "code",
   "execution_count": 2,
   "id": "f00fad94",
   "metadata": {},
   "outputs": [
    {
     "name": "stdout",
     "output_type": "stream",
     "text": [
      "Saved grid image to e:\\InDeutschland\\3Dproject\\summary_grid.png\n"
     ]
    }
   ],
   "source": [
    "import cv2\n",
    "import numpy as np\n",
    "import os\n",
    "\n",
    "# 文件名列表\n",
    "img_names = [\n",
    "    \"depth_color.png\",\n",
    "    \"disparity_blended.png\",\n",
    "    \"feature_matches_color.png\",\n",
    "    \"snapshot01.png\"\n",
    "]\n",
    "\n",
    "# 获取当前目录（兼容脚本和 notebook）\n",
    "try:\n",
    "    base_dir = os.path.dirname(__file__)\n",
    "except NameError:\n",
    "    base_dir = os.getcwd()\n",
    "\n",
    "# 读取图片\n",
    "imgs = []\n",
    "for name in img_names:\n",
    "    path = os.path.join(base_dir, name)\n",
    "    img = cv2.imread(path)\n",
    "    if img is None:\n",
    "        raise FileNotFoundError(f\"Image not found: {path}\")\n",
    "    imgs.append(img)\n",
    "\n",
    "# 统一尺寸为第一张图片的尺寸\n",
    "h, w = imgs[0].shape[:2]\n",
    "imgs = [cv2.resize(img, (w, h)) for img in imgs]\n",
    "\n",
    "# 拼接成2x2网格\n",
    "row1 = np.hstack((imgs[0], imgs[1]))\n",
    "row2 = np.hstack((imgs[2], imgs[3]))\n",
    "grid = np.vstack((row1, row2))\n",
    "\n",
    "# 保存\n",
    "out_path = os.path.join(base_dir, \"summary_grid.png\")\n",
    "cv2.imwrite(out_path, grid)\n",
    "print(f\"Saved grid image to {out_path}\")"
   ]
  }
 ],
 "metadata": {
  "kernelspec": {
   "display_name": "i2dlEnv",
   "language": "python",
   "name": "python3"
  },
  "language_info": {
   "codemirror_mode": {
    "name": "ipython",
    "version": 3
   },
   "file_extension": ".py",
   "mimetype": "text/x-python",
   "name": "python",
   "nbconvert_exporter": "python",
   "pygments_lexer": "ipython3",
   "version": "3.12.7"
  }
 },
 "nbformat": 4,
 "nbformat_minor": 5
}
